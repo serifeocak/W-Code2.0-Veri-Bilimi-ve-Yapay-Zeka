{
  "cells": [
    {
      "cell_type": "markdown",
      "id": "409f0f4a",
      "metadata": {
        "id": "409f0f4a"
      },
      "source": [
        "**Ödev-1:** Kullanıcıdan maaş bilgisini istenir ve bu bilgiye göre maaşından ne kadar vergi kesileceğini hesaplanır. Kullanıcının geliri;\n",
        "\n",
        "1. 10000 ve altındaysa maaşından %5 kesinti olur.\n",
        "2. 25000 ve altındaysa maaşından %10 kesinti olur.\n",
        "3. 45000 ve altındaysa maaşından %25 kesinti olur.\n",
        "4. Diğer koşullarda %30 kesinti olur.\n",
        "\n",
        "Bu durumlara göre kullanıcının yeni maaşı yazdırılır."
      ]
    },
    {
      "cell_type": "code",
      "execution_count": 1,
      "id": "5246e510",
      "metadata": {
        "colab": {
          "base_uri": "https://localhost:8080/"
        },
        "id": "5246e510",
        "outputId": "f338c875-0c55-4bd4-dca1-cec20e04344b"
      },
      "outputs": [
        {
          "name": "stdout",
          "output_type": "stream",
          "text": [
            "Vergi kesintisi: %10\n",
            "Yeni maaşınız:  15300.0\n"
          ]
        }
      ],
      "source": [
        "maas = float(input(\"Maaşınızı giriniz: \"))\n",
        "\n",
        "if maas <= 10000:\n",
        "  maas = maas * 0.95\n",
        "  print(\"Vergi kesintisi: %5\")\n",
        "\n",
        "elif maas<=25000:\n",
        "  maas = maas * 0.90\n",
        "  print(\"Vergi kesintisi: %10\")\n",
        "\n",
        "elif maas <= 45000:\n",
        "  maas = maas * 0.75\n",
        "  print(\"Vergi kesintisi: %25\")\n",
        "\n",
        "else:\n",
        "  maas = maas * 0.60\n",
        "  print(\"Vergi kesintisi: %30\")\n",
        "\n",
        "print(\"Yeni maaşınız: \", maas)"
      ]
    },
    {
      "cell_type": "markdown",
      "id": "f5fe8798",
      "metadata": {
        "id": "f5fe8798"
      },
      "source": [
        "**Ödev-2:** Kullanıcıdan kullanıcı adı ve şifre oluşturmasını istenir. Şifrenin uzunluğu altı haneye ulaşmışsa hesabınız oluşturuldu mesajı alınır, altı haneden azsa altı haneli şifre oluşturması gerektiğinin mesajı alınır. *(Sadece koşul kullanılması yeterli.)*"
      ]
    },
    {
      "cell_type": "code",
      "execution_count": 2,
      "id": "6acffe57",
      "metadata": {
        "colab": {
          "base_uri": "https://localhost:8080/"
        },
        "id": "6acffe57",
        "outputId": "b97b3cc5-b4be-43c3-e496-5fc5578bc188"
      },
      "outputs": [
        {
          "name": "stdout",
          "output_type": "stream",
          "text": [
            "Yeniden deneyin,hesap oluşturulamadı.\n"
          ]
        }
      ],
      "source": [
        "kullanıcı_adı = input(\"Kullanıcı adınızı giriniz: \")\n",
        "sifre = input(\"Şifrenizi giriniz: \")\n",
        "\n",
        "if len(sifre) >= 6:\n",
        "  print(\"Hesabınız oluşturuldu.\")\n",
        "\n",
        "elif len(sifre) < 6:\n",
        "  print(\"Yeniden deneyin,hesap oluşturulamadı.\")"
      ]
    },
    {
      "cell_type": "markdown",
      "id": "aaccf11a",
      "metadata": {
        "id": "aaccf11a"
      },
      "source": [
        "**Ödev-3:** Bir önceki örnek geliştirilir.\n",
        "\n",
        "1. Kullanıcı girdiği şifre 5 ve 10 hane arasında olmak zorunda.\n",
        "2. Eğer bu koşula uyuyorsa \"Hesabınız oluşturuldu.\" mesajı alır.\n",
        "3. Koşulu sağlamıyorsa \"Lütfen girdiniz şifre 5 haneden az 10 haneden fazla olmasın!\" uyarısı alır.\n",
        "4. Bunu oluştururken kullanıcı istediğimiz şartlarda şifre oluşturana kadar sormaya devam eder"
      ]
    },
    {
      "cell_type": "code",
      "execution_count": 3,
      "id": "039e50dc",
      "metadata": {
        "colab": {
          "base_uri": "https://localhost:8080/"
        },
        "id": "039e50dc",
        "outputId": "94582932-3fda-471b-92c4-17fa8b014817"
      },
      "outputs": [
        {
          "name": "stdout",
          "output_type": "stream",
          "text": [
            "Lütfen girdiğiniz şifre 5 haneden az 10 haneden fazla olmasın!\n"
          ]
        }
      ],
      "source": [
        "kullanıcı_adı = input(\"Kullanıcı adınızı giriniz: \")\n",
        "sifre = input(\"Şifrenizi giriniz: \")\n",
        "\n",
        "while len(sifre) < 5 or len(sifre) > 10:\n",
        "  print(\"Lütfen girdiğiniz şifre 5 haneden az 10 haneden fazla olmasın!\")\n",
        "  sifre = input(\"Şifrenizi giriniz: \")"
      ]
    },
    {
      "cell_type": "markdown",
      "id": "8ba81863",
      "metadata": {
        "id": "8ba81863"
      },
      "source": [
        "**Ödev-4:** Kullanıcıdan isim ve şifre isteyeceğiz ve şifre girişi için üç hak verilir.\n",
        "\n",
        "1. Eğer önceden tanımlı şifre ile kullanıcıdan gelen şifre aynıysa \"Giriş yapıldı.\" yazar.\n",
        "2. Şifre girişi yanlışsa \"Yanlış şifre girildi!\" uyarısı verilsin ve üç yanlış denemede program biter.\n",
        "3. Tercihe göre kalan hak bilgisi verilir."
      ]
    },
    {
      "cell_type": "code",
      "execution_count": 4,
      "id": "8f45ea0c",
      "metadata": {
        "colab": {
          "base_uri": "https://localhost:8080/"
        },
        "id": "8f45ea0c",
        "outputId": "0bd20647-9088-44fb-8cca-6cdf4f4f3a47"
      },
      "outputs": [
        {
          "name": "stdout",
          "output_type": "stream",
          "text": [
            "Yanlış şifre girildi!\n",
            "Kalan hak: 2\n",
            "Yanlış şifre girildi!\n",
            "Kalan hak: 1\n",
            "Yanlış şifre girildi!\n",
            "Kalan hak: 0\n",
            "Hakkınız bitmistir.\n"
          ]
        }
      ],
      "source": [
        "sifre = \"12345\"\n",
        "hak = 3\n",
        "\n",
        "input(\"İsim giriniz: \")\n",
        "\n",
        "while hak > 0:\n",
        "  girilen_sifre = input(\"Şifre giriniz: \")\n",
        "  if girilen_sifre == sifre:\n",
        "    print(\"Giriş yapıldı.\")\n",
        "    break\n",
        "  else:\n",
        "    hak -= 1\n",
        "    print(\"Yanlış şifre girildi!\")\n",
        "    print(f\"Kalan hak: {hak}\")\n",
        "    if hak == 0:\n",
        "      print(\"Hakkınız bitmistir.\")\n",
        "\n",
        "\n"
      ]
    }
  ],
  "metadata": {
    "colab": {
      "provenance": []
    },
    "kernelspec": {
      "display_name": "Python 3",
      "language": "python",
      "name": "python3"
    },
    "language_info": {
      "codemirror_mode": {
        "name": "ipython",
        "version": 3
      },
      "file_extension": ".py",
      "mimetype": "text/x-python",
      "name": "python",
      "nbconvert_exporter": "python",
      "pygments_lexer": "ipython3",
      "version": "3.10.11"
    }
  },
  "nbformat": 4,
  "nbformat_minor": 5
}
