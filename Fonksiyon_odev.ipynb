{
  "cells": [
    {
      "cell_type": "markdown",
      "metadata": {
        "id": "tRk7F9CGkA3D"
      },
      "source": [
        "#### Ödev 1\n",
        "Kullanıcıdan pi değeri ve yarıçap bilgisi alarak dairenin alanını hesaplayan bir fonksiyon oluşturulur."
      ]
    },
    {
      "cell_type": "code",
      "execution_count": 1,
      "metadata": {
        "colab": {
          "base_uri": "https://localhost:8080/"
        },
        "id": "rvC56w_6kA3G",
        "outputId": "c78df319-a290-4321-8943-6303e055fe04"
      },
      "outputs": [
        {
          "name": "stdout",
          "output_type": "stream",
          "text": [
            "\n",
            "(Pi=3.0) ve (Yarıçap=3.0) olan dairenin alanı: 27.0\n"
          ]
        }
      ],
      "source": [
        "# Kullanıcıdan Pi değerini al\n",
        "kullanici_pi = float(input(\"Lütfen kullanmak istediğiniz Pi değerini girin (örn: 3.14): \"))\n",
        "\n",
        "# Kullanıcıdan yarıçapı al\n",
        "kullanici_yaricap = float(input(\"Lütfen dairenin yarıçapını girin: \"))\n",
        "\n",
        "# Fonksiyon tanımı\n",
        "def daire_alani_hesapla_iki_parametre(pi_degeri, yaricap):\n",
        "    alan = pi_degeri * (yaricap ** 2)\n",
        "    return alan\n",
        "\n",
        "# Fonksiyonu kullanıcıdan alınan değerlerle çağır\n",
        "sonuc = daire_alani_hesapla_iki_parametre(kullanici_pi, kullanici_yaricap)\n",
        "\n",
        "print(f\"\\n(Pi={kullanici_pi}) ve (Yarıçap={kullanici_yaricap}) olan dairenin alanı: {sonuc}\")"
      ]
    },
    {
      "cell_type": "markdown",
      "metadata": {
        "id": "3TI6051wkA3G"
      },
      "source": [
        "#### Ödev 2\n",
        "\n",
        "Faktöriyel adında fonksiyon oluşturulur. Döngü kullanarak parametre olarak girilen sayının faktöriyeli hesaplanır. Format metodunu kullanılarak ekrana yazdırılır."
      ]
    },
    {
      "cell_type": "code",
      "execution_count": 2,
      "metadata": {
        "colab": {
          "base_uri": "https://localhost:8080/"
        },
        "id": "L89CHhlPkA3H",
        "outputId": "814c4817-158f-4c50-fba9-bc1fc9b8f324"
      },
      "outputs": [
        {
          "name": "stdout",
          "output_type": "stream",
          "text": [
            "Girilen 6 sayısının faktöriyeli: 720\n"
          ]
        }
      ],
      "source": [
        "def faktoriyel(sayi):\n",
        "    \"\"\"\n",
        "    Girilen sayının faktöriyelini (n!) hesaplar.\n",
        "    \"\"\"\n",
        "    if sayi < 0:\n",
        "        return None  # Negatif sayıları desteklemez\n",
        "\n",
        "    sonuc = 1\n",
        "\n",
        "    # 1'den sayıya kadar olan tüm tam sayıları çarpar\n",
        "    for i in range(1, sayi + 1):\n",
        "        sonuc *= i  # sonuc = sonuc * i kısaltması\n",
        "\n",
        "    return sonuc\n",
        "\n",
        "# Test\n",
        "sayi = 6\n",
        "sonuc = faktoriyel(sayi)\n",
        "\n",
        "if sonuc is not None:\n",
        "    # Format metodu kullanılarak ekrana yazdırma\n",
        "    print(\"Girilen {0} sayısının faktöriyeli: {1}\".format(sayi, sonuc))"
      ]
    },
    {
      "cell_type": "markdown",
      "metadata": {
        "id": "AXRQFdCXkA3H"
      },
      "source": [
        "#### Ödev 3\n",
        "Kişinin fonksiyona doğum yılını vererek kaç yaşında olduğunu hesaplayan bir fonksiyon oluşturun."
      ]
    },
    {
      "cell_type": "code",
      "execution_count": 3,
      "metadata": {
        "colab": {
          "base_uri": "https://localhost:8080/"
        },
        "id": "w5gyB9gjkA3H",
        "outputId": "a7d0ea5f-bc32-48ba-d8b4-b2bd026839b7"
      },
      "outputs": [
        {
          "name": "stdout",
          "output_type": "stream",
          "text": [
            "Hesaplanan Yaş: 23\n"
          ]
        }
      ],
      "source": [
        "import datetime\n",
        "\n",
        "def yas_hesapla(dogum_yili):\n",
        "    current_year = datetime.datetime.now().year\n",
        "    yas = current_year - dogum_yili\n",
        "    return yas\n",
        "\n",
        "hesaplanan_yas = yas_hesapla(2002)\n",
        "print(f\"Hesaplanan Yaş: {hesaplanan_yas}\")\n"
      ]
    },
    {
      "cell_type": "markdown",
      "metadata": {
        "id": "KjlT_Sr3kA3H"
      },
      "source": [
        "#### Ödev 4\n",
        "\n",
        "Doğum yılı ve isim bilgisi verilen fonksiyon kişinin emekli olup olmadığını söylesin.(Kişi 65 yaşında ise emekli olur.) Burada yaş hesabını yukarıdaki örnekteki fonksiyonu kullanarak yapsın.(Yani fonksiyon içinde fonksiyon kullanmanızı istiyorum :)) Kişi 65 yaşında ya da daha fazlaysa \"Emekli oldunuz\" yanıtını, 65 yaşından küçükse emekliliğine kaç yıl kaldığını da hesaplayarak \"(isim) emekliliğine (yıl) kaldı.\" yanıtını versin."
      ]
    },
    {
      "cell_type": "code",
      "execution_count": 4,
      "metadata": {
        "colab": {
          "base_uri": "https://localhost:8080/"
        },
        "id": "DH44lPlCkA3H",
        "outputId": "39c718d3-cd35-48e1-8e1e-80191c14a4a3"
      },
      "outputs": [
        {
          "name": "stdout",
          "output_type": "stream",
          "text": [
            "Emekli oldunuz\n",
            "Burak emekliliğine 35 yıl kaldı.\n"
          ]
        }
      ],
      "source": [
        "import datetime\n",
        "\n",
        "# 1. TEMEL FONKSİYON: Yaş Hesaplama\n",
        "def yas_hesapla(dogum_yili):\n",
        "    current_year = datetime.datetime.now().year\n",
        "    yas = current_year - dogum_yili\n",
        "    return yas\n",
        "\n",
        "# 2. ANA FONKSİYON: Emeklilik Kontrolü (yas_hesapla'yı kullanır)\n",
        "def emeklilik_kontrol(isim, dogum_yili):\n",
        "    # Fonksiyon içinde fonksiyon çağrısı\n",
        "    kisi_yasi = yas_hesapla(dogum_yili)\n",
        "\n",
        "    emeklilik_yasi = 65\n",
        "\n",
        "    if kisi_yasi >= emeklilik_yasi:\n",
        "        return \"Emekli oldunuz\"\n",
        "    else:\n",
        "        kalan_yil = emeklilik_yasi - kisi_yasi\n",
        "        # f-string formatı ile istenen çıktıyı oluşturma\n",
        "        return f\"{isim} emekliliğine {kalan_yil} yıl kaldı.\"\n",
        "\n",
        "# --- TEST ---\n",
        "\n",
        "print(emeklilik_kontrol(\"Ahmet\", 1960))\n",
        "print(emeklilik_kontrol(\"Burak\", 1995))"
      ]
    }
  ],
  "metadata": {
    "colab": {
      "provenance": []
    },
    "kernelspec": {
      "display_name": "Python 3",
      "name": "python3"
    },
    "language_info": {
      "codemirror_mode": {
        "name": "ipython",
        "version": 3
      },
      "file_extension": ".py",
      "mimetype": "text/x-python",
      "name": "python",
      "nbconvert_exporter": "python",
      "pygments_lexer": "ipython3",
      "version": "3.10.11"
    }
  },
  "nbformat": 4,
  "nbformat_minor": 0
}
