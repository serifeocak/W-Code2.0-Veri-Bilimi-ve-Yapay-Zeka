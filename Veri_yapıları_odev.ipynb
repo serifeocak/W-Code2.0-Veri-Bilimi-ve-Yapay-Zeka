{
  "cells": [
    {
      "cell_type": "markdown",
      "id": "032d81b2",
      "metadata": {
        "id": "032d81b2"
      },
      "source": [
        "# 1\n",
        "x = 3 ----> floata çevirelim. Çevirdikten sonra veri tipinide yazdıralım.\n",
        "\n",
        "y = 4.5 -----> integere çevirelim. Çevirdikten sonra veri tipinide yazdıralım.\n",
        "\n",
        "z = \"8\" -----> integera çevirelim. Çevirdikten sonra veri tipinide yazdıralım.\n",
        "\n",
        "a = \"12\" -----> floata çevirelim. Çevirdikten sonra veri tipinide yazdıralım.\n",
        "\n",
        "b = \"46.8\" ------> integera çevirelim. Çevirdikten sonra veri tipinide yazdıralım."
      ]
    },
    {
      "cell_type": "code",
      "execution_count": 1,
      "id": "f1b735c0",
      "metadata": {
        "colab": {
          "base_uri": "https://localhost:8080/"
        },
        "id": "f1b735c0",
        "outputId": "8fb29a4f-a74a-4a45-aa3a-4a180b40e68c"
      },
      "outputs": [
        {
          "name": "stdout",
          "output_type": "stream",
          "text": [
            "3.0\n",
            "<class 'float'>\n"
          ]
        }
      ],
      "source": [
        "x=3\n",
        "x = float(x)\n",
        "print(x)\n",
        "print(type(x))"
      ]
    },
    {
      "cell_type": "code",
      "execution_count": 2,
      "id": "50f77b4f",
      "metadata": {
        "colab": {
          "base_uri": "https://localhost:8080/"
        },
        "id": "50f77b4f",
        "outputId": "2bb2edfd-d5fe-4702-abfb-a54b78cba373"
      },
      "outputs": [
        {
          "name": "stdout",
          "output_type": "stream",
          "text": [
            "4\n",
            "<class 'int'>\n"
          ]
        }
      ],
      "source": [
        "y=4.5\n",
        "y = int(y)\n",
        "print(y)\n",
        "print(type(y))"
      ]
    },
    {
      "cell_type": "code",
      "execution_count": 3,
      "id": "S4j1lWhlQVp4",
      "metadata": {
        "colab": {
          "base_uri": "https://localhost:8080/"
        },
        "id": "S4j1lWhlQVp4",
        "outputId": "1a2d0731-848a-4df2-fa74-1eeb58efd452"
      },
      "outputs": [
        {
          "name": "stdout",
          "output_type": "stream",
          "text": [
            "8\n",
            "<class 'int'>\n"
          ]
        }
      ],
      "source": [
        "z=\"8\"\n",
        "z = int(z)\n",
        "print(z)\n",
        "print(type(z))"
      ]
    },
    {
      "cell_type": "code",
      "execution_count": 4,
      "id": "sQVhF_0QQfG2",
      "metadata": {
        "colab": {
          "base_uri": "https://localhost:8080/"
        },
        "id": "sQVhF_0QQfG2",
        "outputId": "66a8c048-2c88-4896-e7c7-38a3969233d8"
      },
      "outputs": [
        {
          "name": "stdout",
          "output_type": "stream",
          "text": [
            "12.0\n",
            "<class 'float'>\n"
          ]
        }
      ],
      "source": [
        "a=\"12\"\n",
        "a = float(a)\n",
        "print(a)\n",
        "print(type(a))"
      ]
    },
    {
      "cell_type": "code",
      "execution_count": 5,
      "id": "-oIM9QjyQeV7",
      "metadata": {
        "colab": {
          "base_uri": "https://localhost:8080/"
        },
        "id": "-oIM9QjyQeV7",
        "outputId": "38a8f347-bf0c-4670-9dc5-c159f0b7f8ae"
      },
      "outputs": [
        {
          "name": "stdout",
          "output_type": "stream",
          "text": [
            "<class 'int'>\n"
          ]
        }
      ],
      "source": [
        "b = \"46.8\"\n",
        "b = int(float(b))\n",
        "print(type(b))"
      ]
    },
    {
      "cell_type": "markdown",
      "id": "95509718",
      "metadata": {
        "id": "95509718"
      },
      "source": [
        "# 2\n",
        "İsimlerden oluşan üç değişkene yaş değerleri atanır. Belirlenen üç değişken birbiriyle karşılaştırma operatörleri ile karşılaştırılır. Bu karşılaştırmalara mantıksal operatörler de eklenir."
      ]
    },
    {
      "cell_type": "code",
      "execution_count": 6,
      "id": "8lLUox3ORaoD",
      "metadata": {
        "id": "8lLUox3ORaoD"
      },
      "outputs": [],
      "source": [
        "serife = 23\n",
        "umut = 24\n",
        "can = 12"
      ]
    },
    {
      "cell_type": "code",
      "execution_count": 7,
      "id": "d90MGwYcRpNS",
      "metadata": {
        "colab": {
          "base_uri": "https://localhost:8080/"
        },
        "id": "d90MGwYcRpNS",
        "outputId": "db222951-be9b-4bd7-d187-aed33ec58748"
      },
      "outputs": [
        {
          "data": {
            "text/plain": [
              "False"
            ]
          },
          "execution_count": 7,
          "metadata": {},
          "output_type": "execute_result"
        }
      ],
      "source": [
        "serife > umut"
      ]
    },
    {
      "cell_type": "code",
      "execution_count": 8,
      "id": "e_Cz2XE1RxSB",
      "metadata": {
        "colab": {
          "base_uri": "https://localhost:8080/"
        },
        "id": "e_Cz2XE1RxSB",
        "outputId": "a0edd057-a567-4045-92a2-2cf448ede2bf"
      },
      "outputs": [
        {
          "data": {
            "text/plain": [
              "False"
            ]
          },
          "execution_count": 8,
          "metadata": {},
          "output_type": "execute_result"
        }
      ],
      "source": [
        "umut < can"
      ]
    },
    {
      "cell_type": "code",
      "execution_count": 9,
      "id": "9GxpABncR4lL",
      "metadata": {
        "colab": {
          "base_uri": "https://localhost:8080/"
        },
        "id": "9GxpABncR4lL",
        "outputId": "eb782983-b4f5-4c8b-846d-2574ea507c63"
      },
      "outputs": [
        {
          "data": {
            "text/plain": [
              "True"
            ]
          },
          "execution_count": 9,
          "metadata": {},
          "output_type": "execute_result"
        }
      ],
      "source": [
        "serife > can"
      ]
    },
    {
      "cell_type": "code",
      "execution_count": 10,
      "id": "LBZT_vGsSC4d",
      "metadata": {
        "colab": {
          "base_uri": "https://localhost:8080/"
        },
        "id": "LBZT_vGsSC4d",
        "outputId": "6736f8ff-ff92-4e16-cc34-e9d88e73c1ea"
      },
      "outputs": [
        {
          "data": {
            "text/plain": [
              "False"
            ]
          },
          "execution_count": 10,
          "metadata": {},
          "output_type": "execute_result"
        }
      ],
      "source": [
        "serife > umut and serife > can"
      ]
    },
    {
      "cell_type": "code",
      "execution_count": 11,
      "id": "QYiDiB3lSJz4",
      "metadata": {
        "colab": {
          "base_uri": "https://localhost:8080/"
        },
        "id": "QYiDiB3lSJz4",
        "outputId": "f2229ab4-f006-408a-bf70-7aa39baae151"
      },
      "outputs": [
        {
          "data": {
            "text/plain": [
              "True"
            ]
          },
          "execution_count": 11,
          "metadata": {},
          "output_type": "execute_result"
        }
      ],
      "source": [
        "can < umut and can < serife"
      ]
    },
    {
      "cell_type": "markdown",
      "id": "a1a0eb92",
      "metadata": {
        "id": "a1a0eb92"
      },
      "source": [
        "# 3\n",
        "Kullanıcıdan iki değer girmesini istenir. Girilen değerlerin toplama, çıkarma, çarpma, bölme sonuçlarını yazdırılır."
      ]
    },
    {
      "cell_type": "code",
      "execution_count": 12,
      "id": "c361e45a",
      "metadata": {
        "id": "c361e45a"
      },
      "outputs": [
        {
          "name": "stdout",
          "output_type": "stream",
          "text": [
            "\n",
            "--- İşlem Sonuçları ---\n",
            "Toplama: 11.0\n",
            "Çıkarma: -7.0\n",
            "Çarpma: 18.0\n",
            "Bölme: 0.2222222222222222\n"
          ]
        }
      ],
      "source": [
        "# Kullanıcıdan değerleri alırken doğrudan float'a çevirme\n",
        "try:\n",
        "    sayi1 = float(input(\"Lütfen ilk sayıyı giriniz: \"))\n",
        "    sayi2 = float(input(\"Lütfen ikinci sayıyı giriniz: \"))\n",
        "\n",
        "    print(\"\\n--- İşlem Sonuçları ---\")\n",
        "\n",
        "    # Toplama\n",
        "    print(f\"Toplama: {sayi1 + sayi2}\")\n",
        "\n",
        "    # Çıkarma\n",
        "    print(f\"Çıkarma: {sayi1 - sayi2}\")\n",
        "\n",
        "    # Çarpma\n",
        "    print(f\"Çarpma: {sayi1 * sayi2}\")\n",
        "\n",
        "    # Bölme (Sıfıra Bölme Kontrolü)\n",
        "    if sayi2 != 0:\n",
        "        print(f\"Bölme: {sayi1 / sayi2}\")\n",
        "    else:\n",
        "        print(\"Bölme: İkinci sayı sıfır olduğu için bölme işlemi yapılamaz.\")\n",
        "\n",
        "except ValueError:\n",
        "    print(\"\\nHata: Lütfen geçerli sayısal bir değer girdiğinizden emin olun.\")"
      ]
    },
    {
      "cell_type": "markdown",
      "id": "060b0bea",
      "metadata": {
        "id": "060b0bea"
      },
      "source": [
        "# 4\n",
        "Kullanıcıdan isim, yaş, şehir ve meslek bilgilerini istenir ve cevaplarını yazdırılır."
      ]
    },
    {
      "cell_type": "code",
      "execution_count": 13,
      "id": "6f5dea59",
      "metadata": {
        "id": "6f5dea59"
      },
      "outputs": [
        {
          "name": "stdout",
          "output_type": "stream",
          "text": [
            "İsminiz: serife\n",
            "Yaşınız: 23\n",
            "Yaşadığınız şehir: antalya\n",
            "Mesleğiniz: bil müh.\n"
          ]
        }
      ],
      "source": [
        "isim = input(\"Lütfen isminizi giriniz: \")\n",
        "yas = input(\"Lütfen yaşınızı giriniz: \")\n",
        "sehir = input(\"Lütfen yaşadığınız şehiri giriniz: \")\n",
        "meslek = input(\"Lütfen mesleğinizi giriniz: \")\n",
        "\n",
        "print(f\"İsminiz: {isim}\")\n",
        "print(f\"Yaşınız: {yas}\")\n",
        "print(f\"Yaşadığınız şehir: {sehir}\")\n",
        "print(f\"Mesleğiniz: {meslek}\")"
      ]
    },
    {
      "cell_type": "markdown",
      "id": "55e1a34e",
      "metadata": {
        "id": "55e1a34e"
      },
      "source": [
        "# 5\n",
        "\"Hi-Kod Veri Bilimi Atölyesi\" ifadesini bir değişkene tanımlanır.\n",
        "\n",
        "\n",
        " 1. İfadedeki her bir kelimeyi (\"Hi-Kod\", \"Veri\", \"Bilimi\", \"Atölyesi\") değişken içinden seçilir.\n",
        " 2. İfadeyi hepsini büyük harf olacak hale çevrilir. (\"HI-KOD VERİ BİLİMİ ATÖLYESİ\")\n",
        " 3. İfadeyi hepsini büyük harf olacak hale çevrilir.(\"hi-kod veri bilimi atölyesi\")\n",
        "\n",
        "\"0123456789\" ifadesindeki yalnızca çift sayıları ve yalnızca tek sayıları seçilir. (\"02468\", \"13579\")"
      ]
    },
    {
      "cell_type": "code",
      "execution_count": 14,
      "id": "0fc1bc40",
      "metadata": {
        "id": "0fc1bc40"
      },
      "outputs": [
        {
          "data": {
            "text/plain": [
              "['Hi-Kod', 'Veri', 'Bilimi', 'Atölyesi']"
            ]
          },
          "execution_count": 14,
          "metadata": {},
          "output_type": "execute_result"
        }
      ],
      "source": [
        "ifade = \"Hi-Kod Veri Bilimi Atölyesi\"\n",
        "ifade.split()"
      ]
    },
    {
      "cell_type": "code",
      "execution_count": 15,
      "id": "JteD7crHUmkL",
      "metadata": {
        "id": "JteD7crHUmkL"
      },
      "outputs": [
        {
          "data": {
            "text/plain": [
              "'HI-KOD VERI BILIMI ATÖLYESI'"
            ]
          },
          "execution_count": 15,
          "metadata": {},
          "output_type": "execute_result"
        }
      ],
      "source": [
        "ifade.upper()"
      ]
    },
    {
      "cell_type": "code",
      "execution_count": 16,
      "id": "9Kye4JyHUqma",
      "metadata": {
        "id": "9Kye4JyHUqma"
      },
      "outputs": [
        {
          "data": {
            "text/plain": [
              "'hi-kod veri bilimi atölyesi'"
            ]
          },
          "execution_count": 16,
          "metadata": {},
          "output_type": "execute_result"
        }
      ],
      "source": [
        "ifade.lower()"
      ]
    },
    {
      "cell_type": "code",
      "execution_count": 17,
      "id": "3ReMYznrUuUa",
      "metadata": {
        "id": "3ReMYznrUuUa"
      },
      "outputs": [
        {
          "name": "stdout",
          "output_type": "stream",
          "text": [
            "02468\n",
            "13579\n"
          ]
        }
      ],
      "source": [
        "s = \"0123456789\"\n",
        "ciftsayilar = s[0::2]\n",
        "teksayilar = s[1::2]\n",
        "print(ciftsayilar)\n",
        "print(teksayilar)"
      ]
    }
  ],
  "metadata": {
    "colab": {
      "provenance": []
    },
    "kernelspec": {
      "display_name": "Python 3",
      "language": "python",
      "name": "python3"
    },
    "language_info": {
      "codemirror_mode": {
        "name": "ipython",
        "version": 3
      },
      "file_extension": ".py",
      "mimetype": "text/x-python",
      "name": "python",
      "nbconvert_exporter": "python",
      "pygments_lexer": "ipython3",
      "version": "3.10.11"
    }
  },
  "nbformat": 4,
  "nbformat_minor": 5
}
